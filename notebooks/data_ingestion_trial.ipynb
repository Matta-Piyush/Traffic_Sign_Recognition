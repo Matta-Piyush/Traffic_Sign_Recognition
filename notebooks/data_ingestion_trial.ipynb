{
 "cells": [
  {
   "cell_type": "code",
   "execution_count": 1,
   "metadata": {},
   "outputs": [],
   "source": [
    "from dataclasses import dataclass\n",
    "from pathlib import Path"
   ]
  },
  {
   "cell_type": "code",
   "execution_count": 8,
   "metadata": {},
   "outputs": [],
   "source": [
    "@dataclass(frozen=True)\n",
    "class Data_ingestion_config:\n",
    "    root_dir:Path\n",
    "    local_data_file:Path\n",
    "    unzip_data_dir:Path\n"
   ]
  },
  {
   "cell_type": "code",
   "execution_count": 17,
   "metadata": {},
   "outputs": [],
   "source": [
    "import os\n",
    "os.chdir('../')"
   ]
  },
  {
   "cell_type": "code",
   "execution_count": 7,
   "metadata": {},
   "outputs": [],
   "source": [
    "from src.constants import *\n",
    "from src.utils.common import read_yaml,create_directories"
   ]
  },
  {
   "cell_type": "code",
   "execution_count": 10,
   "metadata": {},
   "outputs": [],
   "source": [
    "class configuration_manager:\n",
    "    def __init__(self,config_file_path=CONFIG_FILE_PATH,params_file_path=PARAMS_FILE_PATH):\n",
    "        self.config=read_yaml(config_file_path)\n",
    "        self.params=read_yaml(params_file_path)\n",
    "\n",
    "        create_directories([self.config.artifacts_root])\n",
    "\n",
    "    def get_data_ingestion_config(self)->Data_ingestion_config:\n",
    "        Config=self.config.data_ingestion\n",
    "        create_directories([Config.root_dir])\n",
    "        data_ingestion_config=Data_ingestion_config(Config.root_dir,Config.local_data_file,Config.unzip_data_dir)\n",
    "        return data_ingestion_config\n",
    "  "
   ]
  },
  {
   "cell_type": "code",
   "execution_count": 11,
   "metadata": {},
   "outputs": [],
   "source": [
    "import shutil"
   ]
  },
  {
   "cell_type": "code",
   "execution_count": 21,
   "metadata": {},
   "outputs": [],
   "source": [
    "from src import logger"
   ]
  },
  {
   "cell_type": "code",
   "execution_count": 18,
   "metadata": {},
   "outputs": [],
   "source": [
    "class DataIngestion:\n",
    "    def __init__(self,config: Data_ingestion_config):\n",
    "        self.config=config\n",
    "    def fetch_data(self):\n",
    "        try:\n",
    "            shutil.copyfile('notebooks/data/archive.zip',self.config.local_data_file)\n",
    "            logger.info(f\"Fetching data from dir {os.getcwd()} into file {self.config.local_data_file}\")\n",
    "\n",
    "        except Exception as e:\n",
    "            raise e      \n"
   ]
  },
  {
   "cell_type": "code",
   "execution_count": 13,
   "metadata": {},
   "outputs": [],
   "source": [
    "os.chdir(\"notebooks\")"
   ]
  },
  {
   "cell_type": "code",
   "execution_count": 16,
   "metadata": {},
   "outputs": [
    {
     "data": {
      "text/plain": [
       "'d:\\\\DLProjects\\\\Traffic_Sign_Recognition\\\\notebooks'"
      ]
     },
     "execution_count": 16,
     "metadata": {},
     "output_type": "execute_result"
    }
   ],
   "source": [
    "os.getcwd()"
   ]
  },
  {
   "cell_type": "code",
   "execution_count": 22,
   "metadata": {},
   "outputs": [
    {
     "name": "stdout",
     "output_type": "stream",
     "text": [
      "[2023-10-24 21:02:53,776: INFO: common: yaml file: config\\config.yaml loaded successfully:]\n",
      "[2023-10-24 21:02:53,783: INFO: common: yaml file: params.yaml loaded successfully:]\n",
      "[2023-10-24 21:02:53,786: INFO: common: created directory at: artifacts:]\n",
      "[2023-10-24 21:02:53,788: INFO: common: created directory at: artifacts/data_ingestion:]\n",
      "[2023-10-24 21:02:55,570: INFO: 1844027599: Fetching data from dir d:\\DLProjects\\Traffic_Sign_Recognition into file artifacts/data_ingestion/data.zip:]\n"
     ]
    }
   ],
   "source": [
    "try:\n",
    "    config=configuration_manager()\n",
    "    config_ingestion=config.get_data_ingestion_config()\n",
    "    obj=DataIngestion(config_ingestion)\n",
    "    obj.fetch_data()\n",
    "except Exception as e:\n",
    "    raise e\n",
    "    "
   ]
  },
  {
   "cell_type": "code",
   "execution_count": null,
   "metadata": {},
   "outputs": [],
   "source": []
  }
 ],
 "metadata": {
  "kernelspec": {
   "display_name": "Python 3",
   "language": "python",
   "name": "python3"
  },
  "language_info": {
   "codemirror_mode": {
    "name": "ipython",
    "version": 3
   },
   "file_extension": ".py",
   "mimetype": "text/x-python",
   "name": "python",
   "nbconvert_exporter": "python",
   "pygments_lexer": "ipython3",
   "version": "3.9.18"
  }
 },
 "nbformat": 4,
 "nbformat_minor": 2
}
